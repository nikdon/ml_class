{
 "metadata": {
  "name": "",
  "signature": "sha256:09aecc19023b1807736bfecadecc81075b9958f92cb909cf6b8284bbe55b762b"
 },
 "nbformat": 3,
 "nbformat_minor": 0,
 "worksheets": [
  {
   "cells": [
    {
     "cell_type": "markdown",
     "metadata": {},
     "source": [
      "# Machine Learning Online Class - Exercise 4 Neural Network Learning\n",
      "\n",
      "Setup the parameters:"
     ]
    },
    {
     "cell_type": "code",
     "collapsed": false,
     "input": [
      "import numpy as np\n",
      "\n",
      "input_layer_size = 400\n",
      "hidden_layer_size = 25\n",
      "num_labels = 10"
     ],
     "language": "python",
     "metadata": {},
     "outputs": [],
     "prompt_number": 117
    },
    {
     "cell_type": "markdown",
     "metadata": {},
     "source": [
      "##Part 1: Loadind and Visualizing Data\n",
      "\n",
      "So we start the exercise by first loading and visualizing the dataset. Dataset contains handwritten digits.\n",
      "\n",
      "Load training data:"
     ]
    },
    {
     "cell_type": "code",
     "collapsed": false,
     "input": [
      "import scipy.io\n",
      "\n",
      "ex4data1 = scipy.io.loadmat('ex4data1.mat')\n",
      "\n",
      "X = ex4data1['X']\n",
      "y = ex4data1['y']"
     ],
     "language": "python",
     "metadata": {},
     "outputs": [],
     "prompt_number": 118
    },
    {
     "cell_type": "markdown",
     "metadata": {},
     "source": [
      "And randomly select sample to display:"
     ]
    },
    {
     "cell_type": "code",
     "collapsed": false,
     "input": [
      "sel = np.random.randint(X.shape[0])\n",
      "    \n",
      "from matplotlib import pyplot as plt\n",
      "\n",
      "plt.imshow(np.rot90(X[sel,:].reshape(20, 20)), origin='lower', cmap = cm.Greys_r)\n",
      "plt.show()"
     ],
     "language": "python",
     "metadata": {},
     "outputs": [
      {
       "metadata": {},
       "output_type": "display_data",
       "png": "[encoded data removed]",
       "text": [
        "<matplotlib.figure.Figure at 0xa1b01d0>"
       ]
      }
     ],
     "prompt_number": 119
    },
    {
     "cell_type": "markdown",
     "metadata": {},
     "source": [
      "## Part 2: Loading parameters\n",
      "\n",
      "Now we have to load and pre-initialize neural network paramteres $\\theta_1$ and $\\theta_2$:"
     ]
    },
    {
     "cell_type": "code",
     "collapsed": false,
     "input": [
      "ex4weights = scipy.io.loadmat('ex4weights.mat')\n",
      "\n",
      "Theta1 = ex4weights['Theta1']\n",
      "Theta2 = ex4weights['Theta2']"
     ],
     "language": "python",
     "metadata": {},
     "outputs": [],
     "prompt_number": 120
    },
    {
     "cell_type": "markdown",
     "metadata": {},
     "source": [
      "## Part 3: Compute Cost (Feedforward)\n",
      "\n",
      "To the neural network, first we should start by implementing the feedforward part of the neural network that returns the cost only. We have to write the code to return cost. After implementing the feedforward to compute the cost, we can verify implementation is correct by verifying that we get the same cost as us for the fixed debugging parameters. \n",
      "\n",
      "We suggest implementing the feedforward cost *without* regularization first so that it will be easier to debug. Later, in part 4, you will get to implement the regularized cost.\n",
      "\n",
      "So now set weitght regularization parameter $\\lambda$ to 0:"
     ]
    },
    {
     "cell_type": "code",
     "collapsed": false,
     "input": [
      "wrp_lambda = 0"
     ],
     "language": "python",
     "metadata": {},
     "outputs": [],
     "prompt_number": 121
    },
    {
     "cell_type": "markdown",
     "metadata": {},
     "source": [
      "And define sigmoid function $g(z) = \\frac{1}{1 - e^z}$ and sigmoid gradient function $g'(z)=\\frac{d}{dz}g(z) = g(z)(1-g(z))$:"
     ]
    },
    {
     "cell_type": "code",
     "collapsed": false,
     "input": [
      "def sigmoid(z):\n",
      "    return 1.0 / (1.0 + np.exp(-z))\n",
      "\n",
      "def sigmoid_gradient(z):\n",
      "    return sigmoid(z) * (1 - sigmoid(z))\n",
      "\n",
      "x = np.arange(-6, 6, 0.1)\n",
      "\n",
      "subplot(2,1,1)\n",
      "plt.plot(x, sigmoid(x))\n",
      "plt.grid(True)\n",
      "\n",
      "subplot(2,1,2)\n",
      "plt.plot(x, sigmoid_gradient(x))\n",
      "plt.grid(True)\n",
      "\n",
      "plt.show()"
     ],
     "language": "python",
     "metadata": {},
     "outputs": [
      {
       "metadata": {},
       "output_type": "display_data",
       "png": "[encoded data removed]",
       "text": [
        "<matplotlib.figure.Figure at 0xa1e10f0>"
       ]
      }
     ],
     "prompt_number": 122
    },
    {
     "cell_type": "markdown",
     "metadata": {},
     "source": [
      "And write function computes the cost $J(\\theta)$ and gradient $\\frac{d}{d\\theta}J(\\theta)$ of the neural network, where **nn_params** is tuple $(\\theta^{(1)}$, $\\theta^{(2)})$:"
     ]
    },
    {
     "cell_type": "code",
     "collapsed": false,
     "input": [
      "def nn_cost_function(nn_params, input_layer_size, hidden_layer_size, num_labels, X, y, wrp_lambda=0):\n",
      "    \n",
      "    Theta1 = nn_params[:hidden_layer_size * (input_layer_size + 1)].reshape(hidden_layer_size, (input_layer_size + 1))\n",
      "    Theta2 = nn_params[hidden_layer_size * (input_layer_size + 1):].reshape(num_labels, (hidden_layer_size + 1))\n",
      "    \n",
      "    m = X.shape[0]\n",
      "    \n",
      "    J = 0.0\n",
      "    \n",
      "    Theta1_grad = np.zeros(Theta1.shape)\n",
      "    Theta2_grad = np.zeros(Theta2.shape)\n",
      "    \n",
      "    a1 = np.vstack((np.ones(m), X.T))\n",
      "    z2 = np.dot(Theta1, a1)\n",
      "    a2 = np.vstack((np.ones(m), sigmoid(z2)))\n",
      "    a3 = sigmoid(np.dot(Theta2, a2))\n",
      "    \n",
      "    Y = np.zeros([Theta2.shape[0], m]);\n",
      "    \n",
      "    for col in xrange(np.size(y)):\n",
      "        Y[y[col] - 1, col] = 1.0\n",
      "    \n",
      "    J = (1.0/m) * np.sum(np.sum(-Y * np.log(a3) - (1.0 - Y) * np.log(1.0 - a3)));\n",
      "    \n",
      "    # Add regularization\n",
      "    J += wrp_lambda/(2.0*m) * (np.sum(np.sum(Theta1**2)) + np.sum(np.sum(Theta2**2)))\n",
      "    \n",
      "    # Implement the backpropagation algorithm to compute the gradients\n",
      "    d3 = a3 - Y\n",
      "    d2 = (np.dot(Theta2.T, d3)) * np.vstack((np.ones(m), sigmoid_gradient(z2)))\n",
      "    \n",
      "    Theta2_grad = 1.0/m * np.dot(d3, a2.T)\n",
      "    Theta1_grad = 1.0/m * np.dot(d2[1:, :], a1.T)\n",
      "    \n",
      "    grad = np.hstack((Theta1_grad.flatten(), Theta2_grad.flatten()))\n",
      "    \n",
      "    return J, grad\n",
      "\n",
      "\n",
      "nn_params = np.hstack((Theta1.flatten(), Theta2.flatten()))\n",
      "\n",
      "J, _ = nn_cost_function(nn_params, input_layer_size, hidden_layer_size, num_labels, X, y, wrp_lambda=0.0)\n",
      "print 'Cost at parameters (loaded from ex4weights): %f' % J\n",
      "\n",
      "J, _ = nn_cost_function(nn_params, input_layer_size, hidden_layer_size, num_labels, X, y, wrp_lambda=1.0)\n",
      "print 'Cost at parameters (loaded from ex4weights) w/ regularization: %f' % J"
     ],
     "language": "python",
     "metadata": {},
     "outputs": [
      {
       "output_type": "stream",
       "stream": "stdout",
       "text": [
        "Cost at parameters (loaded from ex4weights): 0.287629\n",
        "Cost at parameters (loaded from ex4weights) w/ regularization: 0.384488\n"
       ]
      }
     ],
     "prompt_number": 123
    },
    {
     "cell_type": "markdown",
     "metadata": {},
     "source": [
      "## Part 4: Initializing Parameters and Training\n",
      "\n",
      "Now we start to implement a two layer network classifies digits. First we have to write a function that initialize the weights of neural network:"
     ]
    },
    {
     "cell_type": "code",
     "collapsed": false,
     "input": [
      "def rand_init_weight(layers_in, layers_out, eps_init=0.12):\n",
      "    weigths = np.random.randn(layers_in + 1, layers_out) * 2 * eps_init - eps_init\n",
      "    return weigths.T\n",
      "\n",
      "\n",
      "initial_Theta1 = rand_init_weight(input_layer_size, hidden_layer_size)\n",
      "initial_Theta2 = rand_init_weight(hidden_layer_size, num_labels)"
     ],
     "language": "python",
     "metadata": {},
     "outputs": [],
     "prompt_number": 124
    },
    {
     "cell_type": "markdown",
     "metadata": {},
     "source": [
      "We almost done with all the code necessary to train neural network. For that purpose we will use [scipy.optimize module](/http://docs.scipy.org/doc/scipy/reference/generated/scipy.optimize.minimize.html#scipy.optimize.minimize/). We have to remember that our cost funstion returns $J(\\theta)$ and $\\frac{d}{d\\theta}J(\\theta)$, so we have to set optional **jac** parameter to **True**. For additional information one may check discussion [here](/http://stackoverflow.com/questions/17431070/how-to-return-cost-grad-as-tuple-for-scipys-fmin-cg-function/)."
     ]
    },
    {
     "cell_type": "code",
     "collapsed": false,
     "input": [
      "from scipy import optimize\n",
      "\n",
      "wrp_lambda = 1.0\n",
      "nn_params = np.hstack((initial_Theta1.flatten(), initial_Theta2.flatten()))\n",
      "args = (input_layer_size, hidden_layer_size, num_labels, X, y, wrp_lambda)\n",
      "\n",
      "res = optimize.minimize(nn_cost_function, nn_params, args=args, method='CG', options={'maxiter':100,'disp':True}, jac=True)"
     ],
     "language": "python",
     "metadata": {},
     "outputs": [
      {
       "output_type": "stream",
       "stream": "stdout",
       "text": [
        "Warning: Desired error not necessarily achieved due to precision loss.\n",
        "         Current function value: 0.615513\n",
        "         Iterations: 54\n",
        "         Function evaluations: 222\n",
        "         Gradient evaluations: 209\n"
       ]
      }
     ],
     "prompt_number": 125
    },
    {
     "cell_type": "markdown",
     "metadata": {},
     "source": [
      "The optimization result represented as a *Result* object. Important attributes is **x** - the solution array. When it has been obrained, we can reshape it to $\\theta^{(1)}$ and $\\theta^{(2)}$, which represent optimized weight parameters:"
     ]
    },
    {
     "cell_type": "code",
     "collapsed": false,
     "input": [
      "nn_params = res.x\n",
      "\n",
      "Theta1 = nn_params[:hidden_layer_size * (input_layer_size + 1)].reshape(hidden_layer_size, (input_layer_size + 1))\n",
      "Theta2 = nn_params[hidden_layer_size * (input_layer_size + 1):].reshape(num_labels, (hidden_layer_size + 1))"
     ],
     "language": "python",
     "metadata": {},
     "outputs": [],
     "prompt_number": 126
    },
    {
     "cell_type": "markdown",
     "metadata": {},
     "source": [
      "After training the neural network, we would like to use it to predict the labels. We implement the \"predict\" function to use the neural network to predict the labels of the training set. This lets us compute the training set accuracy:"
     ]
    },
    {
     "cell_type": "code",
     "collapsed": false,
     "input": [
      "def predict(theta1, theta2, X):\n",
      "\n",
      "    m = X.shape[0]\n",
      "    h1 = sigmoid(np.dot(np.hstack((np.ones((m, 1)), X)), Theta1.T))\n",
      "    h2 = sigmoid(np.dot(np.hstack((np.ones((m, 1)), h1)), Theta2.T))\n",
      "\n",
      "    p = np.argmax(h2, axis=1)\n",
      "\n",
      "    return p\n",
      "\n",
      "\n",
      "p = predict(Theta1, Theta2, X)\n",
      "print 'Training Set Accuracy: %f' % (np.mean(p == y.flatten() - 1) * 100)"
     ],
     "language": "python",
     "metadata": {},
     "outputs": [
      {
       "output_type": "stream",
       "stream": "stdout",
       "text": [
        "Training Set Accuracy: 95.820000\n"
       ]
      }
     ],
     "prompt_number": 127
    }
   ],
   "metadata": {}
  }
 ]
}