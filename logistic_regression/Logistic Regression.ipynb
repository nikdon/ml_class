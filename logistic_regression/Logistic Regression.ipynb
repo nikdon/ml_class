{
 "metadata": {
  "name": "",
  "signature": "sha256:0b8dc796dca30d6478c1086f1ca63b9ab135794ede7f5805121ec21ad31998ba"
 },
 "nbformat": 3,
 "nbformat_minor": 0,
 "worksheets": [
  {
   "cells": [
    {
     "cell_type": "markdown",
     "metadata": {},
     "source": [
      "# Machine Learning Online Class - Exercise 2 Logistic Regression\n",
      "\n",
      "Start the exercise by first loading and plotting the data to understand the problem:"
     ]
    },
    {
     "cell_type": "code",
     "collapsed": false,
     "input": [
      "import numpy as np\n",
      "\n",
      "\n",
      "loaded_data = np.loadtxt('ex2data1.txt', delimiter=',')\n",
      "X = loaded_data[:,:2]\n",
      "y = loaded_data[:,-1]\n",
      "\n",
      "print X[0:5, :]\n",
      "print y[0:5]"
     ],
     "language": "python",
     "metadata": {},
     "outputs": [
      {
       "output_type": "stream",
       "stream": "stdout",
       "text": [
        "[[ 34.62365962  78.02469282]\n",
        " [ 30.28671077  43.89499752]\n",
        " [ 35.84740877  72.90219803]\n",
        " [ 60.18259939  86.3085521 ]\n",
        " [ 79.03273605  75.34437644]]\n",
        "[ 0.  0.  0.  1.  1.]\n"
       ]
      }
     ],
     "prompt_number": 1
    },
    {
     "cell_type": "code",
     "collapsed": false,
     "input": [
      "from matplotlib import pyplot as plt\n",
      "\n",
      "pos = y > 0\n",
      "neg = y == 0\n",
      "\n",
      "plt.scatter(X[pos,0], X[pos,1], marker='+', color='r', s=35)\n",
      "plt.scatter(X[neg,0], X[neg,1], marker='o', color='b', s=20)\n",
      "plt.show()"
     ],
     "language": "python",
     "metadata": {},
     "outputs": [
      {
       "metadata": {},
       "output_type": "display_data",
       "png": "[encoded data removed]",
       "text": [
        "<matplotlib.figure.Figure at 0x96d54e0>"
       ]
      }
     ],
     "prompt_number": 2
    },
    {
     "cell_type": "markdown",
     "metadata": {},
     "source": [
      "Define sigmoid function $g(z) = \\frac{1}{1 - e^z}$ and sigmoid gradient function $g'(z)=\\frac{d}{dz}g(z) = g(z)(1-g(z))$:"
     ]
    },
    {
     "cell_type": "code",
     "collapsed": false,
     "input": [
      "def sigmoid(z):\n",
      "    return 1.0 / (1.0 + np.exp(-z))\n",
      "\n",
      "def sigmoid_gradient(z):\n",
      "    return sigmoid(z) * (1.0 - sigmoid(z))\n",
      "\n",
      "x = np.arange(-6, 6, 0.1)\n",
      "\n",
      "subplot(2,1,1)\n",
      "plt.plot(x, sigmoid(x))\n",
      "plt.grid(True)\n",
      "\n",
      "subplot(2,1,2)\n",
      "plt.plot(x, sigmoid_gradient(x))\n",
      "plt.grid(True)\n",
      "\n",
      "plt.show()"
     ],
     "language": "python",
     "metadata": {},
     "outputs": [
      {
       "metadata": {},
       "output_type": "display_data",
       "png": "[encoded data removed]",
       "text": [
        "<matplotlib.figure.Figure at 0x96eaf28>"
       ]
      }
     ],
     "prompt_number": 3
    },
    {
     "cell_type": "markdown",
     "metadata": {},
     "source": [
      "Write function computes the cost $J(\\theta)$ and gradient $\\frac{d}{d\\theta}J(\\theta)$:"
     ]
    },
    {
     "cell_type": "code",
     "collapsed": false,
     "input": [
      "def cost_function(theta, X, y, lam=0):\n",
      "    m = X.shape[0]\n",
      "\n",
      "    predictions = sigmoid(X * c_[theta])\n",
      "    J = 1./m * (-y.T.dot(np.log(predictions)) - (1-y).T.dot(np.log(1 - predictions)))\n",
      "    \n",
      "    # Add regularization\n",
      "    J += lam/(2.0*m) * np.sum(np.dot(c_[theta].T, c_[theta]))\n",
      "    \n",
      "    grad = 1./m * X.T * (predictions - y) + lam * c_[theta]\n",
      "    \n",
      "    return J, grad"
     ],
     "language": "python",
     "metadata": {},
     "outputs": [],
     "prompt_number": 14
    },
    {
     "cell_type": "markdown",
     "metadata": {},
     "source": [
      "## Part 2: Compute Cost and Gradient"
     ]
    },
    {
     "cell_type": "code",
     "collapsed": false,
     "input": [
      "loaded_data = np.loadtxt('D:\\SkyDrive\\Courses\\ML Class\\mlclass-ex2-005\\mlclass-ex2\\ex2data1.txt', delimiter=',')\n",
      "X = loaded_data[:,:2]\n",
      "y = loaded_data[:,-1]\n",
      "\n",
      "m, n = X.shape\n",
      "\n",
      "X = mat(c_[loaded_data[:, :2]])\n",
      "y = c_[loaded_data[:, 2]]\n",
      "\n",
      "X = c_[np.ones(m), X]\n",
      "\n",
      "initial_theta = np.zeros((n+1, 1))\n",
      "\n",
      "cost, grad = cost_function(initial_theta, X, y, lam=0)\n",
      "\n",
      "print 'Cost: ', cost\n",
      "print 'Gradient: ', grad.T"
     ],
     "language": "python",
     "metadata": {},
     "outputs": [
      {
       "output_type": "stream",
       "stream": "stdout",
       "text": [
        "Cost:  [[ 0.69314718]]\n",
        "Gradient:  [[ -0.1        -12.00921659 -11.26284221]]\n"
       ]
      }
     ],
     "prompt_number": 15
    },
    {
     "cell_type": "markdown",
     "metadata": {},
     "source": [
      "## Part 3: Optimizing\n"
     ]
    },
    {
     "cell_type": "code",
     "collapsed": false,
     "input": [
      "from scipy import optimize\n",
      "\n",
      "res = optimize.minimize(lambda t: cost_function(t, X, y, lam=0)[0],\n",
      "                                  initial_theta, \n",
      "                                  method='Nelder-Mead',\n",
      "                                  options={'disp':True, 'disp':True},\n",
      "                                  jac=False)\n",
      "\n",
      "print res"
     ],
     "language": "python",
     "metadata": {},
     "outputs": [
      {
       "output_type": "stream",
       "stream": "stdout",
       "text": [
        "Optimization terminated successfully.\n",
        "         Current function value: 0.203498\n",
        "         Iterations: 157\n",
        "         Function evaluations: 287\n",
        "  status: 0\n",
        "    nfev: 287\n",
        " success: True\n",
        "     fun: 0.2034977015902151\n",
        "       x: array([-25.16130062,   0.20623142,   0.20147143])\n",
        " message: 'Optimization terminated successfully.'\n",
        "     nit: 157\n"
       ]
      }
     ],
     "prompt_number": 17
    },
    {
     "cell_type": "markdown",
     "metadata": {},
     "source": [
      "## Part 4: Predict Accuracies"
     ]
    },
    {
     "cell_type": "code",
     "collapsed": false,
     "input": [
      "def predict(theta, X):\n",
      "    p = sigmoid(X * c_[theta]) >= 0.5\n",
      "    return p\n",
      "\n",
      "\n",
      "nn_params = res.x\n",
      "p = predict(nn_params.T, X)\n",
      "\n",
      "print 'Training Set Accuracy: %f' % (np.mean(p == y) * 100)"
     ],
     "language": "python",
     "metadata": {},
     "outputs": [
      {
       "output_type": "stream",
       "stream": "stdout",
       "text": [
        "Training Set Accuracy: 89.000000\n"
       ]
      }
     ],
     "prompt_number": 18
    }
   ],
   "metadata": {}
  }
 ]
}